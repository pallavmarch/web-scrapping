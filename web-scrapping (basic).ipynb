{
 "cells": [
  {
   "cell_type": "code",
   "execution_count": 46,
   "id": "762cd982",
   "metadata": {},
   "outputs": [],
   "source": [
    "import requests\n",
    "from bs4 import BeautifulSoup"
   ]
  },
  {
   "cell_type": "code",
   "execution_count": 47,
   "id": "e7cc0d80",
   "metadata": {},
   "outputs": [],
   "source": [
    "wb='https://www.foxnews.com/entertainment'\n",
    "url=requests.get(wb).text  \n",
    "#requests.get()-> used to send an HTTP GET request to the specified website URL."
   ]
  },
  {
   "cell_type": "code",
   "execution_count": 48,
   "id": "0ee337ba",
   "metadata": {},
   "outputs": [],
   "source": [
    "soup=BeautifulSoup(url,'html.parser')"
   ]
  },
  {
   "cell_type": "code",
   "execution_count": 51,
   "id": "a65a19db",
   "metadata": {},
   "outputs": [],
   "source": [
    "# function to get news news titles\n",
    "def page(s):\n",
    "    data = []\n",
    "    titles = s.find_all(\"h2\")\n",
    "    for title in titles:\n",
    "        data.append(title.text.strip())\n",
    "    return data\n",
    "\n",
    "# change h2 to h3 etc based on need"
   ]
  },
  {
   "cell_type": "markdown",
   "id": "b27ae997",
   "metadata": {},
   "source": [
    "Fox News Titles"
   ]
  },
  {
   "cell_type": "code",
   "execution_count": 52,
   "id": "20c42650",
   "metadata": {},
   "outputs": [
    {
     "data": {
      "text/plain": [
       "[\"Robert Downey Jr. describes year in prison, says you could 'feel the evil in the air'\",\n",
       " \"'Jeopardy!' fans tear apart new category after contestants are stumped during 'horrendous' episode\",\n",
       " \"Prince Harry ripped apart by Kelly Osbourne in scathing rant: 'Everybody’s life was f---ing hard'\",\n",
       " \"Country star Morgan Wallen's toddler rushed to ER after dog bite to the face\",\n",
       " \"'Boy Meets World' star Danielle Fishel shares disturbing details of how she was sexualized as a child star\"]"
      ]
     },
     "execution_count": 52,
     "metadata": {},
     "output_type": "execute_result"
    }
   ],
   "source": [
    "page(soup)"
   ]
  }
 ],
 "metadata": {
  "kernelspec": {
   "display_name": "Python 3 (ipykernel)",
   "language": "python",
   "name": "python3"
  },
  "language_info": {
   "codemirror_mode": {
    "name": "ipython",
    "version": 3
   },
   "file_extension": ".py",
   "mimetype": "text/x-python",
   "name": "python",
   "nbconvert_exporter": "python",
   "pygments_lexer": "ipython3",
   "version": "3.10.9"
  }
 },
 "nbformat": 4,
 "nbformat_minor": 5
}
