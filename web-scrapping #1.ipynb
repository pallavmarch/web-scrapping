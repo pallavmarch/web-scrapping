{
 "cells": [
  {
   "cell_type": "code",
   "execution_count": 5,
   "id": "762cd982",
   "metadata": {},
   "outputs": [],
   "source": [
    "import requests\n",
    "    from bs4 import BeautifulSoup"
   ]
  },
  {
   "cell_type": "code",
   "execution_count": 6,
   "id": "e7cc0d80",
   "metadata": {},
   "outputs": [],
   "source": [
    "wb='https://www.foxnews.com/entertainment'\n",
    "url=requests.get(wb).text  \n",
    "#requests.get()-> used to send an HTTP GET request to the specified website URL."
   ]
  },
  {
   "cell_type": "code",
   "execution_count": 7,
   "id": "0ee337ba",
   "metadata": {},
   "outputs": [],
   "source": [
    "soup=BeautifulSoup(url,'html.parser')"
   ]
  },
  {
   "cell_type": "code",
   "execution_count": 8,
   "id": "56e26815",
   "metadata": {},
   "outputs": [],
   "source": [
    "def page(s):\n",
    "    \n",
    "    # Iterate over the tags and headlines together\n",
    "    for heading in soup.find_all([\"h1\", \"h2\", \"h4\"]):\n",
    "        print(heading.name + ' : ' + heading.text.strip())\n"
   ]
  },
  {
   "cell_type": "code",
   "execution_count": 9,
   "id": "20c42650",
   "metadata": {},
   "outputs": [
    {
     "name": "stdout",
     "output_type": "stream",
     "text": [
      "h1 : Entertainment\n",
      "h2 : John Goodman feels 'terrible' for Roseanne Barr after controversy\n",
      "h2 : Sofia Vergara gets cheeky in thong bikini ahead of 51st birthday\n",
      "h2 : Paul Simon reveals visions helped him write hit songs\n",
      "h2 : Danny Bonaduce ‘doing well’ as he recovers from brain surgery after hydrocephalus diagnosis, wife says\n",
      "h2 : Frederic Forrest, 'Apocalypse Now' actor, dead at 86\n",
      "h4 : Rock Hudson was terrified of 'Dynasty' kiss with costar Linda Evans after AIDS diagnosis: 'Nobody knew'\n",
      "h4 : Journey’s Jonathan Cain recalls frontman Steve Perry leaving the band for good: ‘He was fragile’\n",
      "h4 : '1883' star Tim McGraw's castmate talks filming 'Yellowstone' prequel with country artist: 'He'd throw me off'\n",
      "h4 : Ernest Hemingway's granddaughter calls faith in God her 'saving grace,' helps her face family's tragic past\n",
      "h4 : Amber Heard's director thinks she's ready for 'hell of a comeback' after Johnny Depp drama\n",
      "h4 : Danny Bonaduce ‘doing well’ as he recovers from brain surgery after hydrocephalus diagnosis, wife says\n",
      "h4 : Frederic Forrest, 'Apocalypse Now' actor, dead at 86\n",
      "h4 : Paul Simon reveals visions helped him write hit songs\n",
      "h4 : Country star Tyler Farr reacts to Garth Brooks comments on Bud Light amid the brand’s ongoing controversy\n",
      "h4 : Morgan Wallen returns to tour after vocal cord injury and son's scary ER visit\n",
      "h4 : Tyler Farr talks 'whirlwind' success on 'Fox & Friends'\n",
      "h4 : Country music star Chris Janson releases new album\n",
      "h4 : 'Yellowstone' star Lainey Wilson says ending of hit show is 'gonna be money'\n",
      "h4 : Vanna White requests pay raise on ‘Wheel of Fortune’ after Pat Sajak’s retirement: report\n",
      "h4 : 'Jeopardy!' champion reveals show's problem that's been causing fans to rage\n",
      "h4 : Final 'Jeopardy!' clue ripped by fans as 'poorly worded'\n",
      "h4 : 'Wheel of Fortune' after Pat Sajak: 'Jeopardy!' mistakes can offer valuable lessons for game show's future\n",
      "h4 : Country star Tyler Farr explains what it means to be a 'redneck'\n",
      "h4 : Country star Tyler Farr shares inspiration and meaning behind 'Rednecks Like Me': 'Shout out to our military'\n",
      "h4 : What's on Fox week of 6/26\n",
      "h4 : Sofia Vergara gets cheeky in thong bikini ahead of 51st birthday\n",
      "h4 : Duchess Sarah Ferguson almost skipped doctor visit that led to cancer diagnosis: 'Go get screened'\n",
      "h4 : Jamie Foxx is 'resting' and 'well,' says former co-star: 'He's going to be back'\n",
      "h4 : Jamie Foxx skips movie premiere amid mystery illness, co-star says he hasn't been answering phone calls\n",
      "h4 : Jamie Foxx rep says hospitalization not caused by COVID vaccine: report\n",
      "h4 : Jamie Foxx mystery illness: Timeline of 'Django Unchained' star's health scare\n",
      "h4 : Jamie Foxx is 'resting' and 'well,' says former co-star: 'He's going to be back'\n",
      "h4 : Ed Sheeran surprises fans as his own opening act after original opener Khalid was in a car accident\n",
      "h4 : Patti LaBelle forgets Tina Turner song lyrics during tribute, gets backlash over 'unprofessional' performance\n",
      "h4 : Morgan Wallen returns to tour after vocal cord injury and son's scary ER visit\n",
      "h4 : John Goodman feels 'terrible' for Roseanne Barr after controversy: ‘She’s just her own person’\n",
      "h4 : 'Yellowstone' creator says HBO exec passed on hit show because it 'feels so Middle America,' a 'step backward'\n",
      "h4 : Kevin Costner's 'Yellowstone' fate: Co-creator says 'I don't do f--- you car crashes'\n",
      "h4 : Kevin Costner leaves ‘Yellowstone’ fans distraught with latest announcement\n",
      "h4 : Kevin Costner divorce heats up, wife Christine refuses to leave once-shared home despite pre-nup agreement\n",
      "h4 : Rock Hudson was terrified of 'Dynasty' kiss with costar Linda Evans after AIDS diagnosis: 'Nobody knew'\n",
      "h4 : Bruce Willis, Tom Hanks, Jon Hamm turned down major film offers, changing Hollywood history\n",
      "h4 : Taylor Swift tells fans they don’t need to ‘defend’ her online ahead of re-release of ‘Speak Now’ album\n",
      "h4 : Treat Williams' wife honors wedding anniversary following actor's fatal motorcycle crash\n",
      "h4 : Duchess Sarah Ferguson diagnosed with breast cancer\n",
      "h4 : Duchess Sarah Ferguson almost skipped doctor visit that led to cancer diagnosis: 'Go get screened'\n",
      "h4 : Duchess Sarah Ferguson diagnosed with breast cancer\n",
      "h4 : Princess Kate Middleton, Prince William, King Charles show off dazzling Royal Ascot hats\n",
      "h4 : Prince William and Kate Middleton celebrate royal first as Prince and Princess of Wales\n"
     ]
    }
   ],
   "source": [
    "page(soup)"
   ]
  }
 ],
 "metadata": {
  "kernelspec": {
   "display_name": "Python 3 (ipykernel)",
   "language": "python",
   "name": "python3"
  },
  "language_info": {
   "codemirror_mode": {
    "name": "ipython",
    "version": 3
   },
   "file_extension": ".py",
   "mimetype": "text/x-python",
   "name": "python",
   "nbconvert_exporter": "python",
   "pygments_lexer": "ipython3",
   "version": "3.10.9"
  }
 },
 "nbformat": 4,
 "nbformat_minor": 5
}
