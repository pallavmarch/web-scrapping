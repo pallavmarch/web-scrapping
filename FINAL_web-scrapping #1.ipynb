{
 "cells": [
  {
   "cell_type": "code",
   "execution_count": 2,
   "id": "762cd982",
   "metadata": {},
   "outputs": [],
   "source": [
    "import requests\n",
    "from bs4 import BeautifulSoup"
   ]
  },
  {
   "cell_type": "code",
   "execution_count": 3,
   "id": "e7cc0d80",
   "metadata": {},
   "outputs": [],
   "source": [
    "wb='https://www.foxnews.com/entertainment'\n",
    "url=requests.get(wb).text  \n",
    "#requests.get()-> used to send an HTTP GET request to the specified website URL."
   ]
  },
  {
   "cell_type": "code",
   "execution_count": 11,
   "id": "0ee337ba",
   "metadata": {},
   "outputs": [],
   "source": [
    "soup=BeautifulSoup(url,'html.parser')"
   ]
  },
  {
   "cell_type": "code",
   "execution_count": 20,
   "id": "a2166e47",
   "metadata": {
    "scrolled": false
   },
   "outputs": [
    {
     "name": "stdout",
     "output_type": "stream",
     "text": [
      "'Jeopardy!' fans livid after learning the show doesn't pay for contestants' travel or hotel\n"
     ]
    }
   ],
   "source": [
    "for heading in soup.find(\"h2\"):\n",
    "        print(heading.text)"
   ]
  },
  {
   "cell_type": "code",
   "execution_count": 32,
   "id": "15b23130",
   "metadata": {
    "scrolled": true
   },
   "outputs": [
    {
     "name": "stdout",
     "output_type": "stream",
     "text": [
      "'Jeopardy!' fans livid after learning the show doesn't pay for contestants' travel or hotel\n",
      "Ryan Seacrest takes Pat Sajak's spot as 'Wheel of Fortune' host\n",
      "Frank Sinatra's tough guy reputation was an 'exaggeration,' former co-star says\n",
      "Singer Pink shocked after fan tosses dead mother's ashes on concert stage\n",
      "Bud Light controversy dismissed by country artist Tyler Farr amid Garth Brooks backlash\n",
      "Rock Hudson was terrified of 'Dynasty' kiss with costar Linda Evans after AIDS diagnosis: 'Nobody knew'\n",
      "Journey’s Jonathan Cain recalls frontman Steve Perry leaving the band for good: ‘He was fragile’\n",
      "'1883' star Tim McGraw's castmate talks filming 'Yellowstone' prequel with country artist: 'He'd throw me off'\n",
      "Ernest Hemingway's granddaughter calls faith in God her 'saving grace,' helps her face family's tragic past\n",
      "Jennifer Lawrence shuts down Miley Cyrus, Liam Hemsworth cheating rumors\n",
      "Ryan Seacrest takes Pat Sajak's spot as 'Wheel of Fortune' host\n",
      "Frank Sinatra's tough guy reputation was an 'exaggeration,' former co-star says\n",
      "Tom Cruise's co-stars get candid, Kim Kardashian reveals bedroom secrets\n",
      "'Jeopardy!' fans livid after learning the show doesn't pay for contestants' travel or hotel\n",
      "Bud Light controversy dismissed by country artist Tyler Farr amid Garth Brooks backlash: 'Kind of silly'\n",
      "Morgan Wallen returns to tour after vocal cord injury and son's scary ER visit\n",
      "Tyler Farr talks 'whirlwind' success on 'Fox & Friends'\n",
      " Country music star Chris Janson releases new album\n",
      "'Jeopardy!' fans livid after learning the show doesn't pay for contestants' travel or hotel\n",
      "Vanna White requests pay raise on ‘Wheel of Fortune’ after Pat Sajak’s retirement: report\n",
      "'Jeopardy!' champion reveals show's problem that's been causing fans to rage\n",
      "Final 'Jeopardy!' clue ripped by fans as 'poorly worded'\n",
      "Singer Pink shocked after fan tosses dead mother's ashes on concert stage\n",
      "Britney Spears, Lindsay Lohan, Zachery Ty Bryan: Child stars who went from Hollywood to handcuffs\n",
      "Prince William reveals Princess Diana's charity work left 'deep and lasting impression' on him\n",
      "Bud Light controversy dismissed by country artist Tyler Farr amid Garth Brooks backlash: 'Kind of silly'\n",
      "Amber Heard's director thinks she's ready for 'hell of a comeback' after Johnny Depp drama\n",
      "Jamie Foxx is 'resting' and 'well,' says former co-star: 'He's going to be back'\n",
      "Jamie Foxx skips movie premiere amid mystery illness, co-star says he hasn't been answering phone calls\n",
      "Jamie Foxx rep says hospitalization not caused by COVID vaccine: report\n",
      "Jamie Foxx mystery illness: Timeline of 'Django Unchained' star's health scare\n",
      "Danny Bonaduce ‘doing well’ as he recovers from brain surgery after hydrocephalus diagnosis, wife says\n",
      "Frederic Forrest, 'Apocalypse Now' actor, dead at 86\n",
      "Paul Simon reveals visions helped him write hit songs\n",
      "Country star Tyler Farr reacts to Garth Brooks comments on Bud Light amid the brand’s ongoing controversy\n",
      "Country star Tyler Farr explains what it means to be a 'redneck'\n",
      "'Yellowstone' creator says HBO exec passed on hit show because it 'feels so Middle America,' a 'step backward'\n",
      "Kevin Costner's 'Yellowstone' fate: Co-creator says 'I don't do f--- you car crashes'\n",
      "Kevin Costner leaves ‘Yellowstone’ fans distraught with latest announcement\n",
      "Kevin Costner divorce heats up, wife Christine refuses to leave once-shared home despite pre-nup agreement\n",
      "Country star Tyler Farr shares inspiration and meaning behind 'Rednecks Like Me': 'Shout out to our military'\n",
      "What's on Fox week of 6/26\n",
      "Sofia Vergara gets cheeky in thong bikini ahead of 51st birthday\n",
      "Duchess Sarah Ferguson almost skipped doctor visit that led to cancer diagnosis: 'Go get screened'\n",
      "Jamie Foxx is 'resting' and 'well,' says former co-star: 'He's going to be back'\n",
      "Prince William reveals Princess Diana's charity work left 'deep and lasting impression' on him\n",
      "Duchess Sarah Ferguson almost skipped doctor visit that led to cancer diagnosis: 'Go get screened'\n",
      "Duchess Sarah Ferguson diagnosed with breast cancer\n",
      "Princess Kate Middleton, Prince William, King Charles show off dazzling Royal Ascot hats\n"
     ]
    }
   ],
   "source": [
    "#Finding h2 and h4 headings now\n",
    "for heading in soup.find_all([\"h2\", \"h4\"]):\n",
    "    print(heading.text)"
   ]
  },
  {
   "cell_type": "markdown",
   "id": "d72316e4",
   "metadata": {},
   "source": [
    "Creating the function"
   ]
  },
  {
   "cell_type": "code",
   "execution_count": 33,
   "id": "56e26815",
   "metadata": {},
   "outputs": [],
   "source": [
    "def page(s):\n",
    "    \n",
    "    # Iterate over the tags and headlines together\n",
    "    for heading in soup.find_all([\"h1\", \"h2\", \"h4\"]):\n",
    "        print(heading.name + ' : ' + heading.text.strip())        "
   ]
  },
  {
   "cell_type": "code",
   "execution_count": 34,
   "id": "20c42650",
   "metadata": {},
   "outputs": [
    {
     "name": "stdout",
     "output_type": "stream",
     "text": [
      "h1 : Entertainment\n",
      "h2 : 'Jeopardy!' fans livid after learning the show doesn't pay for contestants' travel or hotel\n",
      "h2 : Ryan Seacrest takes Pat Sajak's spot as 'Wheel of Fortune' host\n",
      "h2 : Frank Sinatra's tough guy reputation was an 'exaggeration,' former co-star says\n",
      "h2 : Singer Pink shocked after fan tosses dead mother's ashes on concert stage\n",
      "h2 : Bud Light controversy dismissed by country artist Tyler Farr amid Garth Brooks backlash\n",
      "h4 : Rock Hudson was terrified of 'Dynasty' kiss with costar Linda Evans after AIDS diagnosis: 'Nobody knew'\n",
      "h4 : Journey’s Jonathan Cain recalls frontman Steve Perry leaving the band for good: ‘He was fragile’\n",
      "h4 : '1883' star Tim McGraw's castmate talks filming 'Yellowstone' prequel with country artist: 'He'd throw me off'\n",
      "h4 : Ernest Hemingway's granddaughter calls faith in God her 'saving grace,' helps her face family's tragic past\n",
      "h4 : Jennifer Lawrence shuts down Miley Cyrus, Liam Hemsworth cheating rumors\n",
      "h4 : Ryan Seacrest takes Pat Sajak's spot as 'Wheel of Fortune' host\n",
      "h4 : Frank Sinatra's tough guy reputation was an 'exaggeration,' former co-star says\n",
      "h4 : Tom Cruise's co-stars get candid, Kim Kardashian reveals bedroom secrets\n",
      "h4 : 'Jeopardy!' fans livid after learning the show doesn't pay for contestants' travel or hotel\n",
      "h4 : Bud Light controversy dismissed by country artist Tyler Farr amid Garth Brooks backlash: 'Kind of silly'\n",
      "h4 : Morgan Wallen returns to tour after vocal cord injury and son's scary ER visit\n",
      "h4 : Tyler Farr talks 'whirlwind' success on 'Fox & Friends'\n",
      "h4 : Country music star Chris Janson releases new album\n",
      "h4 : 'Jeopardy!' fans livid after learning the show doesn't pay for contestants' travel or hotel\n",
      "h4 : Vanna White requests pay raise on ‘Wheel of Fortune’ after Pat Sajak’s retirement: report\n",
      "h4 : 'Jeopardy!' champion reveals show's problem that's been causing fans to rage\n",
      "h4 : Final 'Jeopardy!' clue ripped by fans as 'poorly worded'\n",
      "h4 : Singer Pink shocked after fan tosses dead mother's ashes on concert stage\n",
      "h4 : Britney Spears, Lindsay Lohan, Zachery Ty Bryan: Child stars who went from Hollywood to handcuffs\n",
      "h4 : Prince William reveals Princess Diana's charity work left 'deep and lasting impression' on him\n",
      "h4 : Bud Light controversy dismissed by country artist Tyler Farr amid Garth Brooks backlash: 'Kind of silly'\n",
      "h4 : Amber Heard's director thinks she's ready for 'hell of a comeback' after Johnny Depp drama\n",
      "h4 : Jamie Foxx is 'resting' and 'well,' says former co-star: 'He's going to be back'\n",
      "h4 : Jamie Foxx skips movie premiere amid mystery illness, co-star says he hasn't been answering phone calls\n",
      "h4 : Jamie Foxx rep says hospitalization not caused by COVID vaccine: report\n",
      "h4 : Jamie Foxx mystery illness: Timeline of 'Django Unchained' star's health scare\n",
      "h4 : Danny Bonaduce ‘doing well’ as he recovers from brain surgery after hydrocephalus diagnosis, wife says\n",
      "h4 : Frederic Forrest, 'Apocalypse Now' actor, dead at 86\n",
      "h4 : Paul Simon reveals visions helped him write hit songs\n",
      "h4 : Country star Tyler Farr reacts to Garth Brooks comments on Bud Light amid the brand’s ongoing controversy\n",
      "h4 : Country star Tyler Farr explains what it means to be a 'redneck'\n",
      "h4 : 'Yellowstone' creator says HBO exec passed on hit show because it 'feels so Middle America,' a 'step backward'\n",
      "h4 : Kevin Costner's 'Yellowstone' fate: Co-creator says 'I don't do f--- you car crashes'\n",
      "h4 : Kevin Costner leaves ‘Yellowstone’ fans distraught with latest announcement\n",
      "h4 : Kevin Costner divorce heats up, wife Christine refuses to leave once-shared home despite pre-nup agreement\n",
      "h4 : Country star Tyler Farr shares inspiration and meaning behind 'Rednecks Like Me': 'Shout out to our military'\n",
      "h4 : What's on Fox week of 6/26\n",
      "h4 : Sofia Vergara gets cheeky in thong bikini ahead of 51st birthday\n",
      "h4 : Duchess Sarah Ferguson almost skipped doctor visit that led to cancer diagnosis: 'Go get screened'\n",
      "h4 : Jamie Foxx is 'resting' and 'well,' says former co-star: 'He's going to be back'\n",
      "h4 : Prince William reveals Princess Diana's charity work left 'deep and lasting impression' on him\n",
      "h4 : Duchess Sarah Ferguson almost skipped doctor visit that led to cancer diagnosis: 'Go get screened'\n",
      "h4 : Duchess Sarah Ferguson diagnosed with breast cancer\n",
      "h4 : Princess Kate Middleton, Prince William, King Charles show off dazzling Royal Ascot hats\n"
     ]
    }
   ],
   "source": [
    "page(soup)"
   ]
  }
 ],
 "metadata": {
  "kernelspec": {
   "display_name": "Python 3 (ipykernel)",
   "language": "python",
   "name": "python3"
  },
  "language_info": {
   "codemirror_mode": {
    "name": "ipython",
    "version": 3
   },
   "file_extension": ".py",
   "mimetype": "text/x-python",
   "name": "python",
   "nbconvert_exporter": "python",
   "pygments_lexer": "ipython3",
   "version": "3.10.9"
  }
 },
 "nbformat": 4,
 "nbformat_minor": 5
}
